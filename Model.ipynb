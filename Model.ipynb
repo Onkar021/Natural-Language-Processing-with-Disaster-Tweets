{
 "cells": [
  {
   "cell_type": "code",
   "execution_count": 1,
   "id": "edc25981",
   "metadata": {},
   "outputs": [],
   "source": [
    "import numpy as np\n",
    "import seaborn as sn\n",
    "import pandas as pd\n",
    "import matplotlib.pyplot as plt\n",
    "import datetime\n",
    "import os\n",
    "from sklearn.model_selection import train_test_split\n",
    "import tensorflow as tf\n",
    "from bert import tokenization\n",
    "import joblib\n",
    "from xgboost import XGBClassifier\n",
    "from sklearn.model_selection import RandomizedSearchCV\n",
    "from sklearn.metrics import f1_score\n",
    "from tensorflow.keras.preprocessing.text import Tokenizer\n",
    "from tensorflow.keras.preprocessing.sequence import pad_sequences\n",
    "from tensorflow.keras.optimizers import Adam\n",
    "from tensorflow.keras.models import Model\n",
    "from tensorflow.keras.layers import Embedding, Dense, Flatten, Input, Dropout, LSTM, BatchNormalization, Bidirectional\n",
    "from tensorflow.keras.callbacks import ModelCheckpoint, Callback, EarlyStopping, TensorBoard\n",
    "from tensorflow.keras.utils import to_categorical\n",
    "from tensorflow.keras.utils import plot_model\n",
    "import tensorflow_addons as tfa\n",
    "from tensorflow.keras import initializers\n",
    "import tensorflow_hub as hub\n",
    "\n",
    "\n",
    "\n",
    "\n",
    "import warnings\n",
    "warnings.filterwarnings(\"ignore\")"
   ]
  },
  {
   "cell_type": "markdown",
   "id": "5316a6b2",
   "metadata": {},
   "source": [
    "### Loading Clean Data "
   ]
  },
  {
   "cell_type": "code",
   "execution_count": 15,
   "id": "8abb5751",
   "metadata": {},
   "outputs": [],
   "source": [
    "train = pd.read_csv('clean_train.csv')\n",
    "test = pd.read_csv('clean_test.csv')\n",
    "\n",
    "target = pd.read_csv('target.csv')"
   ]
  },
  {
   "cell_type": "code",
   "execution_count": 18,
   "id": "89b2d59d",
   "metadata": {},
   "outputs": [
    {
     "data": {
      "text/plain": [
       "0       Our Deeds Reason earthquake May ALLAH Forgive us \n",
       "1                   Forest fire near La Ronge Sask Canada\n",
       "2       All residents asked shelter place notified off...\n",
       "3       13000 people receive wildfires evacuation orde...\n",
       "4       Just got sent photo Ruby Alaska smoke wildfire...\n",
       "                              ...                        \n",
       "7608    Two giant cranes holding bridge collapse nearb...\n",
       "7609    ariaahrary TheTawniest The control wild fires ...\n",
       "7610                  M194 0104 UTC5km S Volcano Hawaii  \n",
       "7611    Police investigating ebike collided car Little...\n",
       "7612    The Latest More Homes Razed Northern Californi...\n",
       "Name: text, Length: 7613, dtype: object"
      ]
     },
     "execution_count": 18,
     "metadata": {},
     "output_type": "execute_result"
    }
   ],
   "source": [
    "train['text']"
   ]
  },
  {
   "cell_type": "markdown",
   "id": "2da5dc4f",
   "metadata": {},
   "source": [
    "### Data Splitting "
   ]
  },
  {
   "cell_type": "code",
   "execution_count": 3,
   "id": "89852346",
   "metadata": {},
   "outputs": [],
   "source": [
    "train, cv, y_train, y_cv = train_test_split(train['text'], target, test_size = 0.2, random_state = 42)"
   ]
  },
  {
   "cell_type": "markdown",
   "id": "dd7d084d",
   "metadata": {},
   "source": [
    "### Vectorization "
   ]
  },
  {
   "cell_type": "markdown",
   "id": "4d044472",
   "metadata": {},
   "source": [
    "### GloVe "
   ]
  },
  {
   "cell_type": "code",
   "execution_count": 4,
   "id": "cca51a02",
   "metadata": {},
   "outputs": [],
   "source": [
    "embeddings_dict = dict()\n",
    "\n",
    "f = open('glove.6B.100d.txt', encoding = 'utf8')\n",
    "for line in f:\n",
    "    values = line.split()\n",
    "    word = values[0]\n",
    "    coefs = np.asarray(values[1:], dtype = 'float32')\n",
    "    embeddings_dict[word] = coefs\n",
    "f.close()"
   ]
  },
  {
   "cell_type": "code",
   "execution_count": 5,
   "id": "d6208d0c",
   "metadata": {},
   "outputs": [],
   "source": [
    "max_words = 100000\n",
    "max_sequence_length = 50\n",
    "embedding_dim = 100"
   ]
  },
  {
   "cell_type": "code",
   "execution_count": 9,
   "id": "bf9b8825",
   "metadata": {},
   "outputs": [],
   "source": [
    "tf.keras.backend.clear_session()\n",
    "\n",
    "tokenizer = Tokenizer(num_words = max_words)\n",
    "tokenizer.fit_on_texts(train)\n",
    "word_index = tokenizer.word_index\n",
    "\n",
    "train_sequences = tokenizer.texts_to_sequences(train)\n",
    "train_padded = pad_sequences(train_sequences, padding = 'post', truncating = 'post', maxlen = max_sequence_length)\n",
    "\n",
    "cv_sequences = tokenizer.texts_to_sequences(cv)\n",
    "cv_padded = pad_sequences(cv_sequences, padding = 'post', truncating = 'post', maxlen = max_sequence_length)\n",
    "\n",
    "test_sequences = tokenizer.texts_to_sequences(test['text'])\n",
    "test_padded = pad_sequences(test_sequences, padding = 'post', truncating = 'post', maxlen = max_sequence_length)"
   ]
  },
  {
   "cell_type": "code",
   "execution_count": 10,
   "id": "aa34eda5",
   "metadata": {},
   "outputs": [],
   "source": [
    "vocab_size = len(word_index) + 1\n",
    "embedding_matrix = np.zeros((vocab_size, 100))\n",
    "\n",
    "for word, i in word_index.items():\n",
    "    embedding_vector = embeddings_dict.get(word)\n",
    "    if embedding_vector is not None:\n",
    "        embedding_matrix[i] = embedding_vector"
   ]
  },
  {
   "cell_type": "code",
   "execution_count": 11,
   "id": "0674329d",
   "metadata": {},
   "outputs": [
    {
     "data": {
      "text/plain": [
       "['test_padded.pkl']"
      ]
     },
     "execution_count": 11,
     "metadata": {},
     "output_type": "execute_result"
    }
   ],
   "source": [
    "joblib.dump(train_padded, 'train_padded.pkl')\n",
    "joblib.dump(cv_padded, 'cv_padded.pkl')\n",
    "joblib.dump(test_padded, 'test_padded.pkl')"
   ]
  },
  {
   "cell_type": "code",
   "execution_count": 12,
   "id": "2886cf1a",
   "metadata": {},
   "outputs": [
    {
     "data": {
      "text/plain": [
       "['tokenizer.pkl']"
      ]
     },
     "execution_count": 12,
     "metadata": {},
     "output_type": "execute_result"
    }
   ],
   "source": [
    "joblib.dump(tokenizer, 'tokenizer.pkl')"
   ]
  },
  {
   "cell_type": "markdown",
   "id": "8ba1db4d",
   "metadata": {},
   "source": [
    "### BERT "
   ]
  },
  {
   "cell_type": "code",
   "execution_count": 39,
   "id": "afd31310",
   "metadata": {},
   "outputs": [],
   "source": [
    "def bert_encode(texts, tokenizer, max_len = 512):\n",
    "    \n",
    "    all_tokens = []\n",
    "    all_masks = []\n",
    "    all_segments = []\n",
    "    \n",
    "    for text in texts:\n",
    "        text = tokenizer.tokenize(text)\n",
    "            \n",
    "        text = text[:max_len-2]\n",
    "        input_sequence = [\"[CLS]\"] + text + [\"[SEP]\"]\n",
    "        pad_len = max_len - len(input_sequence)\n",
    "        \n",
    "        tokens = tokenizer.convert_tokens_to_ids(input_sequence)\n",
    "        tokens += [0] * pad_len\n",
    "        pad_masks = [1] * len(input_sequence) + [0] * pad_len\n",
    "        segment_ids = [0] * max_len\n",
    "        \n",
    "        all_tokens.append(tokens)\n",
    "        all_masks.append(pad_masks)\n",
    "        all_segments.append(segment_ids)\n",
    "    \n",
    "    return np.array(all_tokens), np.array(all_masks), np.array(all_segments)"
   ]
  },
  {
   "cell_type": "code",
   "execution_count": 40,
   "id": "3a1580eb",
   "metadata": {},
   "outputs": [],
   "source": [
    "max_seq_length = 160\n",
    "\n",
    "input_word_ids = Input(shape=(max_seq_length,), dtype=tf.int32, name=\"input_word_ids\")\n",
    "input_mask = Input(shape=(max_seq_length,), dtype=tf.int32, name=\"input_mask\")\n",
    "segment_ids = Input(shape=(max_seq_length,), dtype=tf.int32, name=\"segment_ids\")\n",
    "\n",
    "bert_layer = hub.KerasLayer(\"https://tfhub.dev/tensorflow/bert_en_uncased_L-12_H-768_A-12/1\", trainable=False)\n",
    "pooled_output, sequence_output = bert_layer([input_word_ids, input_mask, segment_ids])\n",
    "\n",
    "bert_model = Model(inputs=[input_word_ids, input_mask, segment_ids], outputs = sequence_output[:, 0, :])"
   ]
  },
  {
   "cell_type": "code",
   "execution_count": 41,
   "id": "c712c760",
   "metadata": {},
   "outputs": [],
   "source": [
    "vocab_file = bert_layer.resolved_object.vocab_file.asset_path.numpy()\n",
    "do_lower_case = bert_layer.resolved_object.do_lower_case.numpy()\n",
    "tokenizer = tokenization.FullTokenizer(vocab_file, do_lower_case)"
   ]
  },
  {
   "cell_type": "code",
   "execution_count": 42,
   "id": "96053d4b",
   "metadata": {},
   "outputs": [],
   "source": [
    "train_input = bert_encode(train, tokenizer, max_len = 160)\n",
    "cv_input = bert_encode(cv, tokenizer, max_len = 160)\n",
    "test_input = bert_encode(test, tokenizer, max_len = 160)"
   ]
  },
  {
   "cell_type": "code",
   "execution_count": 43,
   "id": "02844c91",
   "metadata": {},
   "outputs": [],
   "source": [
    "# train_bert = bert_model.predict([train_input])\n",
    "# cv_bert = bert_model.predict([cv_input])\n",
    "# test_bert = bert_model.predict([test_input])"
   ]
  },
  {
   "cell_type": "code",
   "execution_count": 55,
   "id": "9ea762eb",
   "metadata": {},
   "outputs": [],
   "source": [
    "train_bert = joblib.load('train_bert.pkl')\n",
    "cv_bert = joblib.load('cv_bert.pkl')\n",
    "test_bert = joblib.load('test_bert.pkl')"
   ]
  },
  {
   "cell_type": "markdown",
   "id": "1b4bfb22",
   "metadata": {},
   "source": [
    "### Models "
   ]
  },
  {
   "cell_type": "markdown",
   "id": "b2bd4d5f",
   "metadata": {},
   "source": [
    "### LSTM + GloVe "
   ]
  },
  {
   "cell_type": "code",
   "execution_count": 56,
   "id": "d6640f74",
   "metadata": {},
   "outputs": [
    {
     "name": "stdout",
     "output_type": "stream",
     "text": [
      "Model: \"model_3\"\n",
      "_________________________________________________________________\n",
      " Layer (type)                Output Shape              Param #   \n",
      "=================================================================\n",
      " input_3 (InputLayer)        [(None, 50)]              0         \n",
      "                                                                 \n",
      " embedding_2 (Embedding)     (None, 50, 100)           1567600   \n",
      "                                                                 \n",
      " lstm_2 (LSTM)               (None, 50, 32)            17024     \n",
      "                                                                 \n",
      " flatten_2 (Flatten)         (None, 1600)              0         \n",
      "                                                                 \n",
      " dense_8 (Dense)             (None, 300)               480300    \n",
      "                                                                 \n",
      " dropout_4 (Dropout)         (None, 300)               0         \n",
      "                                                                 \n",
      " dense_9 (Dense)             (None, 200)               60200     \n",
      "                                                                 \n",
      " batch_normalization_2 (Batc  (None, 200)              800       \n",
      " hNormalization)                                                 \n",
      "                                                                 \n",
      " dropout_5 (Dropout)         (None, 200)               0         \n",
      "                                                                 \n",
      " dense_10 (Dense)            (None, 80)                16080     \n",
      "                                                                 \n",
      " dense_11 (Dense)            (None, 2)                 162       \n",
      "                                                                 \n",
      "=================================================================\n",
      "Total params: 2,142,166\n",
      "Trainable params: 2,141,766\n",
      "Non-trainable params: 400\n",
      "_________________________________________________________________\n"
     ]
    }
   ],
   "source": [
    "input_layer = Input(shape = (50, ))\n",
    "embedding = Embedding(input_dim = vocab_size, output_dim = embedding_dim, weights = [embedding_matrix], input_length = 50)(input_layer)\n",
    "lstm = LSTM(32, return_sequences = True, recurrent_dropout = 0.5)(embedding)\n",
    "flatten = Flatten()(lstm)\n",
    "dense_1 = Dense(300, activation = \"relu\", kernel_initializer = \"he_normal\")(flatten)\n",
    "dropout = Dropout(0.5)(dense_1)\n",
    "dense_2 = Dense(200, activation=\"relu\", kernel_initializer = \"glorot_normal\")(dropout)\n",
    "normalization = BatchNormalization()(dense_2)\n",
    "dropout_1 = Dropout(0.5)(normalization)\n",
    "dense_3 = Dense(80, activation = \"relu\", kernel_initializer= \"glorot_normal\" )(dropout_1)\n",
    "output = Dense(2, activation = 'softmax')(dense_3)\n",
    "\n",
    "model = Model(inputs = input_layer, outputs = output)\n",
    "\n",
    "model.summary()"
   ]
  },
  {
   "cell_type": "code",
   "execution_count": 57,
   "id": "e7147aae",
   "metadata": {},
   "outputs": [
    {
     "name": "stdout",
     "output_type": "stream",
     "text": [
      "The tensorboard extension is already loaded. To reload it, use:\n",
      "  %reload_ext tensorboard\n"
     ]
    },
    {
     "name": "stderr",
     "output_type": "stream",
     "text": [
      "'rm' is not recognized as an internal or external command,\n",
      "operable program or batch file.\n"
     ]
    }
   ],
   "source": [
    "checkpoint = ModelCheckpoint(\"lstm_model.h5\", monitor=\"val_f1_score\", mode=\"max\", save_best_only = True)\n",
    "\n",
    "earlystop = EarlyStopping(monitor = 'val_f1_score', mode=\"max\", min_delta = 0, patience = 1)\n",
    "\n",
    "%load_ext tensorboard\n",
    "!rm -rf ./logs/ \n",
    "log_dir = os.path.join(\"logs\",'fits', datetime.datetime.now().strftime(\"%Y%m%d-%H%M%S\"))\n",
    "tensorboard = tf.keras.callbacks.TensorBoard(log_dir=log_dir, histogram_freq=1, write_graph=True)\n",
    "\n",
    "callbacks = [checkpoint, earlystop, tensorboard]"
   ]
  },
  {
   "cell_type": "code",
   "execution_count": 58,
   "id": "9dfeba52",
   "metadata": {},
   "outputs": [],
   "source": [
    "y_train_ = to_categorical(y_train)\n",
    "y_cv_ = to_categorical(y_cv)"
   ]
  },
  {
   "cell_type": "code",
   "execution_count": 59,
   "id": "54f9edac",
   "metadata": {},
   "outputs": [
    {
     "name": "stdout",
     "output_type": "stream",
     "text": [
      "Epoch 1/10\n",
      "191/191 [==============================] - 33s 132ms/step - loss: 0.5495 - f1_score: 0.7476 - val_loss: 0.4674 - val_f1_score: 0.7978\n",
      "Epoch 2/10\n",
      "191/191 [==============================] - 21s 108ms/step - loss: 0.4274 - f1_score: 0.8205 - val_loss: 0.4273 - val_f1_score: 0.8181\n",
      "Epoch 3/10\n",
      "191/191 [==============================] - 20s 106ms/step - loss: 0.3508 - f1_score: 0.8544 - val_loss: 0.4778 - val_f1_score: 0.8083\n"
     ]
    }
   ],
   "source": [
    "model.compile(optimizer = 'adam', loss ='binary_crossentropy', metrics = [tfa.metrics.F1Score(num_classes =  2, average = 'micro')])\n",
    "\n",
    "history = model.fit(train_padded, y_train_, epochs=10, verbose=1,callbacks = callbacks, validation_data = (cv_padded, y_cv_))"
   ]
  },
  {
   "cell_type": "code",
   "execution_count": 62,
   "id": "566b49e6",
   "metadata": {},
   "outputs": [
    {
     "name": "stdout",
     "output_type": "stream",
     "text": [
      "191/191 [==============================] - 4s 17ms/step\n"
     ]
    }
   ],
   "source": [
    "y_train_pred = model.predict(train_padded)"
   ]
  },
  {
   "cell_type": "code",
   "execution_count": 106,
   "id": "e7ae8592",
   "metadata": {},
   "outputs": [
    {
     "name": "stdout",
     "output_type": "stream",
     "text": [
      "48/48 [==============================] - 1s 21ms/step\n"
     ]
    }
   ],
   "source": [
    "y_cv_pred = model.predict(cv_padded)"
   ]
  },
  {
   "cell_type": "code",
   "execution_count": 81,
   "id": "c60dcbe0",
   "metadata": {},
   "outputs": [],
   "source": [
    "y_train_pred_final = []\n",
    "for ele in list(y_train_pred):\n",
    "    if ele[0] > ele[1]:\n",
    "        y_train_pred_final.append(0)\n",
    "    else:\n",
    "        y_train_pred_final.append(1)       "
   ]
  },
  {
   "cell_type": "code",
   "execution_count": 83,
   "id": "2bb248f0",
   "metadata": {},
   "outputs": [],
   "source": [
    "y_cv_pred_final = []\n",
    "for ele in list(y_cv_pred):\n",
    "    if ele[0] > ele[1]:\n",
    "        y_cv_pred_final.append(0)\n",
    "    else:\n",
    "        y_cv_pred_final.append(1)       "
   ]
  },
  {
   "cell_type": "code",
   "execution_count": 96,
   "id": "6bfe7b42",
   "metadata": {},
   "outputs": [],
   "source": [
    "train_cm = tf.math.confusion_matrix(y_train, y_train_pred_final)"
   ]
  },
  {
   "cell_type": "code",
   "execution_count": 97,
   "id": "f7cfd93c",
   "metadata": {},
   "outputs": [],
   "source": [
    "validation_cm = tf.math.confusion_matrix(y_cv, y_cv_pred_final)"
   ]
  },
  {
   "cell_type": "markdown",
   "id": "ded217a1",
   "metadata": {},
   "source": [
    "#### Train Confusion Matrix "
   ]
  },
  {
   "cell_type": "code",
   "execution_count": 104,
   "id": "bbc3ccdb",
   "metadata": {},
   "outputs": [
    {
     "data": {
      "image/png": "[encoded data removed]",
      "text/plain": [
       "<Figure size 432x288 with 2 Axes>"
      ]
     },
     "metadata": {
      "needs_background": "light"
     },
     "output_type": "display_data"
    }
   ],
   "source": [
    "sn.heatmap(train_cm, annot = True)\n",
    "plt.xlabel('Predicted')\n",
    "plt.ylabel('Actual')\n",
    "plt.show()"
   ]
  },
  {
   "cell_type": "markdown",
   "id": "bfbf8af9",
   "metadata": {},
   "source": [
    "#### Validation Confusion Matrix "
   ]
  },
  {
   "cell_type": "code",
   "execution_count": 105,
   "id": "1b03b161",
   "metadata": {},
   "outputs": [
    {
     "data": {
      "image/png": "[encoded data removed]",
      "text/plain": [
       "<Figure size 432x288 with 2 Axes>"
      ]
     },
     "metadata": {
      "needs_background": "light"
     },
     "output_type": "display_data"
    }
   ],
   "source": [
    "sn.heatmap(validation_cm, annot = True)\n",
    "plt.xlabel('Predicted')\n",
    "plt.ylabel('Actual')\n",
    "plt.show()"
   ]
  },
  {
   "cell_type": "markdown",
   "id": "475ae96e",
   "metadata": {},
   "source": [
    "### Neural Network + BERT "
   ]
  },
  {
   "cell_type": "code",
   "execution_count": 108,
   "id": "e7a202a6",
   "metadata": {},
   "outputs": [
    {
     "name": "stdout",
     "output_type": "stream",
     "text": [
      "Model: \"model_4\"\n",
      "_________________________________________________________________\n",
      " Layer (type)                Output Shape              Param #   \n",
      "=================================================================\n",
      " input_4 (InputLayer)        [(None, 768)]             0         \n",
      "                                                                 \n",
      " dense_12 (Dense)            (None, 50)                38450     \n",
      "                                                                 \n",
      " dense_13 (Dense)            (None, 50)                2550      \n",
      "                                                                 \n",
      " dense_14 (Dense)            (None, 50)                2550      \n",
      "                                                                 \n",
      " dense_15 (Dense)            (None, 50)                2550      \n",
      "                                                                 \n",
      " dense_16 (Dense)            (None, 2)                 102       \n",
      "                                                                 \n",
      "=================================================================\n",
      "Total params: 46,202\n",
      "Trainable params: 46,202\n",
      "Non-trainable params: 0\n",
      "_________________________________________________________________\n"
     ]
    }
   ],
   "source": [
    "input_layer = Input(shape = (train_bert.shape[1], ))\n",
    "\n",
    "layer1 = Dense(50, activation = 'relu', kernel_initializer = initializers.HeUniform(seed = 0))(input_layer)\n",
    "layer2 = Dense(50, activation = 'relu', kernel_initializer = initializers.HeUniform(seed = 0))(layer1)\n",
    "layer3 = Dense(50, activation = 'relu', kernel_initializer = initializers.HeUniform(seed = 0))(layer2)\n",
    "layer4 = Dense(50, activation = 'relu', kernel_initializer = initializers.HeUniform(seed = 0))(layer3)\n",
    "\n",
    "output = Dense(2, activation = 'softmax', kernel_initializer = initializers.RandomUniform(0, 1, seed = 0))(layer4)\n",
    "\n",
    "model = Model(inputs = input_layer, outputs = output)\n",
    "\n",
    "model.summary()"
   ]
  },
  {
   "cell_type": "code",
   "execution_count": 109,
   "id": "311e022f",
   "metadata": {},
   "outputs": [],
   "source": [
    "checkpoint = ModelCheckpoint(\"bert_model.h5\", monitor=\"val_f1_score\", mode=\"max\", save_best_only = True)\n",
    "callbacks = [checkpoint, earlystop, tensorboard]\n",
    "optimizer = tf.keras.optimizers.Adam()"
   ]
  },
  {
   "cell_type": "code",
   "execution_count": 110,
   "id": "5cd8080e",
   "metadata": {},
   "outputs": [
    {
     "name": "stdout",
     "output_type": "stream",
     "text": [
      "Epoch 1/10\n",
      "191/191 [==============================] - 18s 18ms/step - loss: 0.7277 - f1_score: 0.6841 - val_loss: 0.5624 - val_f1_score: 0.7682\n",
      "Epoch 2/10\n",
      "191/191 [==============================] - 2s 10ms/step - loss: 0.5077 - f1_score: 0.7905 - val_loss: 0.4996 - val_f1_score: 0.7768\n",
      "Epoch 3/10\n",
      "191/191 [==============================] - 2s 10ms/step - loss: 0.4494 - f1_score: 0.8034 - val_loss: 0.4559 - val_f1_score: 0.7905\n",
      "Epoch 4/10\n",
      "191/191 [==============================] - 2s 8ms/step - loss: 0.4297 - f1_score: 0.8135 - val_loss: 0.4471 - val_f1_score: 0.7958\n",
      "Epoch 5/10\n",
      "191/191 [==============================] - 2s 8ms/step - loss: 0.4134 - f1_score: 0.8184 - val_loss: 0.4519 - val_f1_score: 0.7971\n",
      "Epoch 6/10\n",
      "191/191 [==============================] - 2s 8ms/step - loss: 0.4046 - f1_score: 0.8238 - val_loss: 0.4474 - val_f1_score: 0.7997\n",
      "Epoch 7/10\n",
      "191/191 [==============================] - 1s 8ms/step - loss: 0.3987 - f1_score: 0.8225 - val_loss: 0.4521 - val_f1_score: 0.7984\n"
     ]
    }
   ],
   "source": [
    "model.compile(optimizer = optimizer, loss = 'binary_crossentropy', metrics = [tfa.metrics.F1Score(num_classes =  2, average = 'micro')])\n",
    "\n",
    "history = model.fit(train_bert, y_train_, epochs = 10, validation_data = (cv_bert, y_cv_), callbacks = callbacks, verbose = 1)"
   ]
  },
  {
   "cell_type": "code",
   "execution_count": 111,
   "id": "e403e6bf",
   "metadata": {},
   "outputs": [
    {
     "name": "stdout",
     "output_type": "stream",
     "text": [
      "191/191 [==============================] - 1s 4ms/step\n",
      "48/48 [==============================] - 0s 4ms/step\n"
     ]
    }
   ],
   "source": [
    "y_train_pred = model.predict(train_bert)\n",
    "y_cv_pred = model.predict(cv_bert)\n",
    "\n",
    "y_train_pred_final = []\n",
    "for ele in list(y_train_pred):\n",
    "    if ele[0] > ele[1]:\n",
    "        y_train_pred_final.append(0)\n",
    "    else:\n",
    "        y_train_pred_final.append(1) \n",
    "        \n",
    "y_cv_pred_final = []\n",
    "for ele in list(y_cv_pred):\n",
    "    if ele[0] > ele[1]:\n",
    "        y_cv_pred_final.append(0)\n",
    "    else:\n",
    "        y_cv_pred_final.append(1)  \n",
    "        \n",
    "train_cm = tf.math.confusion_matrix(y_train, y_train_pred_final)\n",
    "validation_cm = tf.math.confusion_matrix(y_cv, y_cv_pred_final)"
   ]
  },
  {
   "cell_type": "markdown",
   "id": "d53ce685",
   "metadata": {},
   "source": [
    "#### Train Confusion Matrix "
   ]
  },
  {
   "cell_type": "code",
   "execution_count": 112,
   "id": "1c0c49ce",
   "metadata": {},
   "outputs": [
    {
     "data": {
      "image/png": "[encoded data removed]",
      "text/plain": [
       "<Figure size 432x288 with 2 Axes>"
      ]
     },
     "metadata": {
      "needs_background": "light"
     },
     "output_type": "display_data"
    }
   ],
   "source": [
    "sn.heatmap(train_cm, annot = True)\n",
    "plt.xlabel('Predicted')\n",
    "plt.ylabel('Actual')\n",
    "plt.show()"
   ]
  },
  {
   "cell_type": "markdown",
   "id": "dcf5e64d",
   "metadata": {},
   "source": [
    "#### Validation Confusion Matrix "
   ]
  },
  {
   "cell_type": "code",
   "execution_count": 113,
   "id": "8b5de584",
   "metadata": {},
   "outputs": [
    {
     "data": {
      "image/png": "[encoded data removed]",
      "text/plain": [
       "<Figure size 432x288 with 2 Axes>"
      ]
     },
     "metadata": {
      "needs_background": "light"
     },
     "output_type": "display_data"
    }
   ],
   "source": [
    "sn.heatmap(validation_cm, annot = True)\n",
    "plt.xlabel('Predicted')\n",
    "plt.ylabel('Actual')\n",
    "plt.show()"
   ]
  },
  {
   "cell_type": "markdown",
   "id": "84c00fbb",
   "metadata": {},
   "source": [
    "### XGBoost + BERT"
   ]
  },
  {
   "cell_type": "code",
   "execution_count": 116,
   "id": "e849d1ed",
   "metadata": {},
   "outputs": [
    {
     "name": "stdout",
     "output_type": "stream",
     "text": [
      "Fitting 5 folds for each of 10 candidates, totalling 50 fits\n",
      "[23:51:20] WARNING: ..\\src\\learner.cc:1115: Starting in XGBoost 1.3.0, the default evaluation metric used with the objective 'binary:logistic' was changed from 'error' to 'logloss'. Explicitly set eval_metric if you'd like to restore the old behavior.\n",
      "{'objective': 'binary:logistic', 'use_label_encoder': True, 'base_score': 0.5, 'booster': 'gbtree', 'colsample_bylevel': 1, 'colsample_bynode': 1, 'colsample_bytree': 0.1, 'enable_categorical': False, 'gamma': 1, 'gpu_id': -1, 'importance_type': None, 'interaction_constraints': '', 'learning_rate': 0.01, 'max_delta_step': 0, 'max_depth': 10, 'min_child_weight': 1, 'missing': nan, 'monotone_constraints': '()', 'n_estimators': 150, 'n_jobs': -1, 'num_parallel_tree': 1, 'predictor': 'auto', 'random_state': 42, 'reg_alpha': 0.001, 'reg_lambda': 1, 'scale_pos_weight': 1, 'subsample': 0.3, 'tree_method': 'exact', 'validate_parameters': 1, 'verbosity': None}\n"
     ]
    }
   ],
   "source": [
    "xgb = XGBClassifier(random_state = 42, n_jobs = -1) \n",
    "\n",
    "parameters = {'learning_rate':[0.001,0.01,0.05,0.1,1], \n",
    "              'n_estimators':[100,150,200,500], \n",
    "              'max_depth':[2,3,5,10], \n",
    "              'colsample_bytree':[0.1,0.5,0.7,1], \n",
    "              'subsample':[0.2,0.3,0.5,1], \n",
    "              'gamma':[1e-2,1e-3,0,0.1,0.01,0.5,1],             \n",
    "              'reg_alpha':[1e-5,1e-3,1e-1,1,1e1]} \n",
    "\n",
    "reg = RandomizedSearchCV(xgb,parameters,cv=5, scoring='r2', return_train_score=True, n_jobs=-1, verbose=10) \n",
    "best_clf = reg.fit(train_bert, y_train)\n",
    "best_param = best_clf.best_estimator_.get_params()\n",
    "print(best_param)"
   ]
  },
  {
   "cell_type": "code",
   "execution_count": 131,
   "id": "b0fd9f87",
   "metadata": {},
   "outputs": [
    {
     "name": "stdout",
     "output_type": "stream",
     "text": [
      "[00:04:02] WARNING: ..\\src\\learner.cc:576: \n",
      "Parameters: { \"subsmaple\" } might not be used.\n",
      "\n",
      "  This could be a false alarm, with some parameters getting used by language bindings but\n",
      "  then being mistakenly passed down to XGBoost core, or some parameter actually being used\n",
      "  but getting flagged wrongly here. Please open an issue if you find any such cases.\n",
      "\n",
      "\n",
      "[00:04:02] WARNING: ..\\src\\learner.cc:1115: Starting in XGBoost 1.3.0, the default evaluation metric used with the objective 'binary:logistic' was changed from 'error' to 'logloss'. Explicitly set eval_metric if you'd like to restore the old behavior.\n"
     ]
    }
   ],
   "source": [
    "xgb = XGBClassifier(learning_rate = 0.01, n_estimators = 150, max_depth = 10, colsample_bytree = 0.1, subsmaple = 0.3, gamma = 1, reg_alpha = 0.001)\n",
    "xgb.fit(train_bert, y_train)\n",
    "\n",
    "\n",
    "\n",
    "y_pred_train = xgb.predict(train_bert)\n",
    "y_pred_cv = xgb.predict(cv_bert)"
   ]
  },
  {
   "cell_type": "code",
   "execution_count": 132,
   "id": "a5dd4d2b",
   "metadata": {},
   "outputs": [
    {
     "data": {
      "text/plain": [
       "0.971150097465887"
      ]
     },
     "execution_count": 132,
     "metadata": {},
     "output_type": "execute_result"
    }
   ],
   "source": [
    "f1_score(y_train, y_pred_train)"
   ]
  },
  {
   "cell_type": "code",
   "execution_count": 133,
   "id": "21117868",
   "metadata": {},
   "outputs": [
    {
     "data": {
      "text/plain": [
       "0.7312925170068026"
      ]
     },
     "execution_count": 133,
     "metadata": {},
     "output_type": "execute_result"
    }
   ],
   "source": [
    "f1_score(y_cv, y_pred_cv)"
   ]
  },
  {
   "cell_type": "markdown",
   "id": "c9772b1d",
   "metadata": {},
   "source": [
    "##### LSTM + Glove is the Best model to classify "
   ]
  },
  {
   "cell_type": "code",
   "execution_count": 1,
   "id": "5941147c",
   "metadata": {},
   "outputs": [],
   "source": [
    "import tensorflow_addons"
   ]
  },
  {
   "cell_type": "code",
   "execution_count": 2,
   "id": "81a30526",
   "metadata": {},
   "outputs": [],
   "source": [
    "s = 'how are you'\n",
    "\n",
    "s = [s]"
   ]
  },
  {
   "cell_type": "code",
   "execution_count": 3,
   "id": "4c3b816f",
   "metadata": {},
   "outputs": [
    {
     "data": {
      "text/plain": [
       "['how are you']"
      ]
     },
     "execution_count": 3,
     "metadata": {},
     "output_type": "execute_result"
    }
   ],
   "source": [
    "s"
   ]
  },
  {
   "cell_type": "code",
   "execution_count": 1,
   "id": "60cfde74",
   "metadata": {},
   "outputs": [],
   "source": [
    "import joblib\n",
    "\n",
    "train_padded = joblib.load('train_padded.pkl')\n",
    "cv_padded = joblib.load('cv_padded.pkl')\n",
    "test_padded = joblib.load('test_padded.pkl')"
   ]
  },
  {
   "cell_type": "code",
   "execution_count": 2,
   "id": "7ea64ce8",
   "metadata": {},
   "outputs": [
    {
     "name": "stdout",
     "output_type": "stream",
     "text": [
      "(6090, 50)\n",
      "(1523, 50)\n",
      "(3263, 50)\n"
     ]
    }
   ],
   "source": [
    "print(train_padded.shape)\n",
    "print(cv_padded.shape)\n",
    "print(test_padded.shape)"
   ]
  },
  {
   "cell_type": "code",
   "execution_count": null,
   "id": "c3a85241",
   "metadata": {},
   "outputs": [],
   "source": []
  }
 ],
 "metadata": {
  "kernelspec": {
   "display_name": "Python 3 (ipykernel)",
   "language": "python",
   "name": "python3"
  },
  "language_info": {
   "codemirror_mode": {
    "name": "ipython",
    "version": 3
   },
   "file_extension": ".py",
   "mimetype": "text/x-python",
   "name": "python",
   "nbconvert_exporter": "python",
   "pygments_lexer": "ipython3",
   "version": "3.9.7"
  }
 },
 "nbformat": 4,
 "nbformat_minor": 5
}
